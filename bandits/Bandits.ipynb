{
 "cells": [
  {
   "cell_type": "code",
   "execution_count": 1,
   "metadata": {},
   "outputs": [],
   "source": [
    "import numpy as np\n",
    "import matplotlib.pyplot as plt\n",
    "\n",
    "%matplotlib inline\n",
    "plt.style.use(\"seaborn\")"
   ]
  },
  {
   "cell_type": "markdown",
   "metadata": {},
   "source": [
    "## Ten-armed bandit testbed"
   ]
  },
  {
   "cell_type": "markdown",
   "metadata": {},
   "source": [
    "We want to randomly generate the actual value function $q_*(a)$ for a problem with 10 possible actions $a$. From there we construct stationary PDFs of the rewards $R_t$, which we assume here to be Gaussian."
   ]
  },
  {
   "cell_type": "markdown",
   "metadata": {},
   "source": [
    "We assume that the rewards for each action are drawn from a Gaussian distribution with mean $q_*(a)$ and unit variance."
   ]
  },
  {
   "cell_type": "markdown",
   "metadata": {},
   "source": [
    "A simple bandit algorithm:"
   ]
  },
  {
   "cell_type": "code",
   "execution_count": 2,
   "metadata": {},
   "outputs": [],
   "source": [
    "def greedy(values):\n",
    "    \"\"\"\n",
    "    The greedy algorithm always chooses the greedy action,\n",
    "    that is, the action with highest percieved (or estimated) value.\n",
    "    Ties are settled (uniformly) randomly.\n",
    "    \n",
    "    Parameters\n",
    "    ----------\n",
    "    values : np.ndarray\n",
    "        Estimated (or percieved) values of each action\n",
    "    \n",
    "    Returns\n",
    "    -------\n",
    "    action : int\n",
    "        The chosen (greedy) action to take    \n",
    "    \"\"\"\n",
    "    # We can't just use np.argmax(), since that only returns\n",
    "    # the first occurrence of the maximum\n",
    "    max_value = np.max(values)\n",
    "    optimal_actions = np.argwhere(values == max_value).reshape(-1)\n",
    "\n",
    "    return np.random.choice(optimal_actions)"
   ]
  },
  {
   "cell_type": "code",
   "execution_count": 3,
   "metadata": {},
   "outputs": [],
   "source": [
    "class Bandit():\n",
    "    \"\"\"\n",
    "    A k-armed bandit problem with stationary, unit-variance Gaussian-distributed\n",
    "    rewards and randomly generated Gaussian-distributed values.\n",
    "    \n",
    "    Parameters\n",
    "    ----------\n",
    "    n_arms : int\n",
    "        The number of arms (or actions)\n",
    "    \n",
    "    Attributes\n",
    "    ----------\n",
    "    n_arms : int\n",
    "        The number of arms (or actions)\n",
    "    values : array of shape (n_arms, 1)\n",
    "        The value of each action\n",
    "    \"\"\"\n",
    "    def __init__(self, n_arms):\n",
    "        self.n_arms = n_arms\n",
    "        self.values = np.random.normal(loc=0, scale=1, size=n_arms)\n",
    "        \n",
    "    def __call__(self, action):\n",
    "        \"\"\"\n",
    "        Sample the reward from a Gaussian distribution with mean\n",
    "        given by `values` and unit variance.\n",
    "        \n",
    "        Parameters\n",
    "        ----------\n",
    "        action : int\n",
    "            The index of the action taken\n",
    "        \n",
    "        Return\n",
    "        ------\n",
    "        reward : float\n",
    "            The value of the reward recieved\n",
    "        \"\"\"\n",
    "        return np.random.normal(loc=self.values[action], scale=1)\n"
   ]
  },
  {
   "cell_type": "code",
   "execution_count": 12,
   "metadata": {},
   "outputs": [],
   "source": [
    "def run_testbed(n_actions, n_steps):\n",
    "    bandit = Bandit(n_actions)\n",
    "\n",
    "    estimated_values = np.zeros(n_actions) # TODO: Make this and below 2D, with second dimension being timesteps\n",
    "    actions_taken = np.zeros(n_actions)\n",
    "\n",
    "    actions = np.empty(n_steps, dtype=np.int64)\n",
    "    rewards = np.empty(n_steps)\n",
    "    \n",
    "    step = 1\n",
    "    for i in range(n_steps):\n",
    "        # Decide on an action\n",
    "        actions[i] = greedy(estimated_values)\n",
    "\n",
    "        # Take the action and receive a reward\n",
    "        rewards[i] = bandit(actions[i])\n",
    "\n",
    "        # Update estimated values based on the action taken and the reward recieved\n",
    "        # TODO: Make this a function\n",
    "        actions_taken[actions[i]] += 1\n",
    "        estimated_values[actions[i]] += 1 / (actions_taken[actions[i]]) * (rewards[i] - estimated_values[actions[i]])\n",
    "    \n",
    "    return actions, rewards"
   ]
  },
  {
   "cell_type": "code",
   "execution_count": 5,
   "metadata": {},
   "outputs": [],
   "source": [
    "def run_many(n_actions, n_steps, n_runs):\n",
    "    actions = np.empty((n_steps, n_runs), dtype=np.int64)\n",
    "    rewards = np.empty((n_steps, n_runs))\n",
    "    \n",
    "    for i in range(n_runs):\n",
    "        actions[:, i], rewards[:, i] = run_testbed(n_actions, n_steps)\n",
    "    \n",
    "    return actions, rewards"
   ]
  },
  {
   "cell_type": "code",
   "execution_count": 6,
   "metadata": {},
   "outputs": [],
   "source": [
    "actions, rewards = run_many(10, 1000, 2000)"
   ]
  },
  {
   "cell_type": "code",
   "execution_count": 7,
   "metadata": {},
   "outputs": [],
   "source": [
    "def running_average(x):\n",
    "    \"\"\"\n",
    "    Calculate the running average of an array.\n",
    "    \n",
    "    Parameters\n",
    "    ----------\n",
    "    x : array\n",
    "        The input array\n",
    "    \n",
    "    Returns\n",
    "    -------\n",
    "    ave : array\n",
    "        The running average of x\n",
    "    \"\"\"\n",
    "    if x.ndim == 1:\n",
    "        x = x.reshape((-1,1))\n",
    "    ave = np.empty(x.shape)\n",
    "    \n",
    "    ave[0, :] = x[0, :]\n",
    "    for i in range(1, len(ave)):\n",
    "        ave[i, :] = ave[i-1, :] + 1 / (i + 1) * (x[i, :] - ave[i-1,:])\n",
    "    \n",
    "    return ave\n",
    "\n",
    "assert all(running_average(np.array([0, 5, 4, 9, 3])) == np.reshape([0, 2.5, 3, 4.5, 4.2], (-1, 1)))"
   ]
  },
  {
   "cell_type": "code",
   "execution_count": 32,
   "metadata": {},
   "outputs": [
    {
     "data": {
      "image/png": "[encoded data removed]",
      "text/plain": [
       "<matplotlib.figure.Figure at 0x222e48783c8>"
      ]
     },
     "metadata": {},
     "output_type": "display_data"
    }
   ],
   "source": [
    "plt.plot(rewards.mean(axis=1));"
   ]
  },
  {
   "cell_type": "code",
   "execution_count": 17,
   "metadata": {},
   "outputs": [],
   "source": [
    "def eps_greedy(values, eps):\n",
    "    \"\"\"\n",
    "    The greedy algorithm always chooses the greedy action,\n",
    "    that is, the action with highest percieved (or estimated) value.\n",
    "    Ties are settled (uniformly) randomly.\n",
    "    \n",
    "    Parameters\n",
    "    ----------\n",
    "    values : np.ndarray\n",
    "        Estimated (or percieved) values of each action\n",
    "    \n",
    "    Returns\n",
    "    -------\n",
    "    action : int\n",
    "        The chosen (greedy) action to take    \n",
    "    \"\"\"\n",
    "    explore = np.random.choice([True, False], p=[eps, 1 - eps])\n",
    "    \n",
    "    if explore:\n",
    "        return np.random.randint(0, len(values))\n",
    "    else:\n",
    "        max_value = np.max(values)\n",
    "        optimal_actions = np.argwhere(values == max_value).reshape(-1)\n",
    "\n",
    "        return np.random.choice(optimal_actions)"
   ]
  },
  {
   "cell_type": "code",
   "execution_count": 18,
   "metadata": {},
   "outputs": [],
   "source": [
    "def run_testbed(n_actions, n_steps, algo, **kwargs):\n",
    "    bandit = Bandit(n_actions)\n",
    "\n",
    "    estimated_values = np.zeros(n_actions) # TODO: Make this and below 2D, with second dimension being timesteps\n",
    "    actions_taken = np.zeros(n_actions)\n",
    "\n",
    "    actions = np.empty(n_steps, dtype=np.int64)\n",
    "    rewards = np.empty(n_steps)\n",
    "    \n",
    "    step = 1\n",
    "    for i in range(n_steps):\n",
    "        # Decide on an action\n",
    "        actions[i] = algo(estimated_values, **kwargs)\n",
    "\n",
    "        # Take the action and receive a reward\n",
    "        rewards[i] = bandit(actions[i])\n",
    "\n",
    "        # Update estimated values based on the action taken and the reward recieved\n",
    "        # TODO: Make this a function\n",
    "        actions_taken[actions[i]] += 1\n",
    "        estimated_values[actions[i]] += 1 / (actions_taken[actions[i]]) * (rewards[i] - estimated_values[actions[i]])\n",
    "    \n",
    "    return actions, rewards"
   ]
  },
  {
   "cell_type": "code",
   "execution_count": 25,
   "metadata": {},
   "outputs": [],
   "source": [
    "def run_many(n_actions, n_steps, n_runs, algo, **kwargs):\n",
    "    actions = np.empty((n_steps, n_runs), dtype=np.int64)\n",
    "    rewards = np.empty((n_steps, n_runs))\n",
    "    \n",
    "    for i in range(n_runs):\n",
    "        actions[:, i], rewards[:, i] = run_testbed(n_actions, n_steps, algo, **kwargs)\n",
    "    \n",
    "    return actions, rewards"
   ]
  },
  {
   "cell_type": "code",
   "execution_count": 27,
   "metadata": {},
   "outputs": [],
   "source": [
    "actions, rewards = run_many(10, 1000, 2000, eps_greedy, eps=0.1)"
   ]
  },
  {
   "cell_type": "code",
   "execution_count": 30,
   "metadata": {},
   "outputs": [
    {
     "data": {
      "image/png": "[encoded data removed]",
      "text/plain": [
       "<matplotlib.figure.Figure at 0x222dc660a58>"
      ]
     },
     "metadata": {},
     "output_type": "display_data"
    }
   ],
   "source": [
    "plt.plot(rewards.mean(axis=1));"
   ]
  },
  {
   "cell_type": "code",
   "execution_count": null,
   "metadata": {},
   "outputs": [],
   "source": []
  }
 ],
 "metadata": {
  "kernelspec": {
   "display_name": "Python [default]",
   "language": "python",
   "name": "python3"
  },
  "language_info": {
   "codemirror_mode": {
    "name": "ipython",
    "version": 3
   },
   "file_extension": ".py",
   "mimetype": "text/x-python",
   "name": "python",
   "nbconvert_exporter": "python",
   "pygments_lexer": "ipython3",
   "version": "3.6.1"
  }
 },
 "nbformat": 4,
 "nbformat_minor": 2
}
